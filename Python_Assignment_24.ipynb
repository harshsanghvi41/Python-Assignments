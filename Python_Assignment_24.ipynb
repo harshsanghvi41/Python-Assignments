{
 "cells": [
  {
   "cell_type": "markdown",
   "id": "2ece8c7d",
   "metadata": {},
   "source": [
    "1. What is the difference between def statements and lambda expressions ?\n",
    "\n",
    "Ans: The only difference is that the body of a lambda can consist of only a single expression, the result of which is returned from the function created and a lambda expression is an expression which evaluates to a function object, while a def statement has no value, and creates a function object and binds it to a name."
   ]
  },
  {
   "cell_type": "markdown",
   "id": "b4cdf622",
   "metadata": {},
   "source": [
    "2. What is the benefit of lambda?\n",
    "\n",
    "Ans:The lambda keyword in Python provides a shortcut for declaring small anonymous functions. Lambda functions behave just like regular functions declared with the def keyword. They can be used whenever function objects are required."
   ]
  },
  {
   "cell_type": "markdown",
   "id": "9d8d6cf8",
   "metadata": {},
   "source": [
    "3. Compare and contrast map, filter, and reduce."
   ]
  },
  {
   "cell_type": "markdown",
   "id": "a71a3188",
   "metadata": {},
   "source": [
    "The map() function iterates through all items in the given iterable and executes the function we passed as an argument on each of them."
   ]
  },
  {
   "cell_type": "code",
   "execution_count": 1,
   "id": "897c0af2",
   "metadata": {},
   "outputs": [
    {
     "name": "stdout",
     "output_type": "stream",
     "text": [
      "[True, False, False, True, False]\n"
     ]
    }
   ],
   "source": [
    "def starts_with_A(s):\n",
    "    return s[0] == \"A\"\n",
    "\n",
    "fruit = [\"Apple\", \"Banana\", \"Pear\", \"Apricot\", \"Orange\"]\n",
    "map_object = map(starts_with_A, fruit)\n",
    "\n",
    "print(list(map_object))"
   ]
  },
  {
   "cell_type": "markdown",
   "id": "ccf814f4",
   "metadata": {},
   "source": [
    "Similar to map(), filter() takes a function object and an iterable and creates a new list.\n",
    "\n",
    "As the name suggests, filter() forms a new list that contains only elements that satisfy a certain condition, i.e. the function we passed returns True."
   ]
  },
  {
   "cell_type": "code",
   "execution_count": 2,
   "id": "992d75a7",
   "metadata": {},
   "outputs": [
    {
     "name": "stdout",
     "output_type": "stream",
     "text": [
      "['Apple', 'Apricot']\n"
     ]
    }
   ],
   "source": [
    "def starts_with_A(s):\n",
    "    return s[0] == \"A\"\n",
    "\n",
    "fruit = [\"Apple\", \"Banana\", \"Pear\", \"Apricot\", \"Orange\"]\n",
    "filter_object = filter(starts_with_A, fruit)\n",
    "\n",
    "print(list(filter_object))"
   ]
  },
  {
   "cell_type": "markdown",
   "id": "cc8bc74c",
   "metadata": {},
   "source": [
    "reduce() works differently than map() and filter(). It does not return a new list based on the function and iterable we've passed. Instead, it returns a single value."
   ]
  },
  {
   "cell_type": "code",
   "execution_count": 3,
   "id": "d59a4d6b",
   "metadata": {},
   "outputs": [
    {
     "name": "stdout",
     "output_type": "stream",
     "text": [
      "16\n"
     ]
    }
   ],
   "source": [
    "from functools import reduce\n",
    "\n",
    "def add(x, y):\n",
    "    return x + y\n",
    "\n",
    "list = [2, 4, 7, 3]\n",
    "print(reduce(add, list))"
   ]
  },
  {
   "cell_type": "markdown",
   "id": "83791230",
   "metadata": {},
   "source": [
    "4. What are function annotations, and how are they used?\n",
    "\n",
    "Ans: Function annotations are arbitrary python expressions that are associated with various part of functions. These expressions are evaluated at compile time and have no life in python’s runtime environment. "
   ]
  },
  {
   "cell_type": "markdown",
   "id": "3088d0b4",
   "metadata": {},
   "source": [
    "5. What are recursive functions, and how are they used?\n",
    "\n",
    "Ans: A recursive function is a function that calls itself during its execution."
   ]
  },
  {
   "cell_type": "markdown",
   "id": "2100a7c4",
   "metadata": {},
   "source": [
    "6. What are some general design guidelines for coding functions?\n",
    "\n",
    "Ans: \n",
    "1. Use 4-space indentation and no tabs. \n",
    "\n",
    "\n",
    "2. Use docstrings : There are both single and multi-line docstrings that can be used in Python. However, the single line comment fits in one line, triple quotes are used in both cases. These are used to define a particular program or define a particular function.    \n",
    "\n",
    "\n",
    "3. Wrap lines so that they don’t exceed 79 characters : The Python standard library is conservative and requires limiting lines to 79 characters. The lines can be wrapped using parenthesis, brackets, and braces. They should be used in preference to backslashes.    \n",
    "\n",
    "\n",
    "4. Use of regular and updated comments are valuable to both the coders and users : There are also various types and conditions that if followed can be of great help from programs and users point of view. Comments should form complete sentences. If a comment is a full sentence, its first word should be capitalized, unless it is an identifier that begins with a lower case letter. In short comments, the period at the end can be omitted. In block comments, there are more than one paragraphs and each sentence must end with a period. Block comments and inline comments can be written followed by a single ‘#’.    \n",
    "\n",
    "\n",
    "5. Use of trailing commas : This is not mandatory except while making a tuple.    \n",
    "\n",
    "\n",
    "6. Use Python’s default UTF-8 or ASCII encodings and not any fancy encodings, if it is meant for international environment. \n",
    "\n",
    "\n",
    "7. Use spaces around operators and after commas, but not directly inside bracketing constructs.    \n",
    "\n",
    "\n",
    "8. Naming Conventions : There are few naming conventions that should be followed in order to make the program less complex and more readable. At the same time, the naming conventions in Python is a bit of mess, but here are few conventions that can be followed easily. There is an overriding principle that follows that the names that are visible to the user as public parts of API should follow conventions that reflect usage rather than implementation.    \n",
    "\n",
    "\n",
    "9. Characters that should not be used for identifiers : ‘l’ (lowercase letter el), ‘O’ (uppercase letter oh), or ‘I’ (uppercase letter eye) as single character variable names as these are similar to the numerals one and zero.    \n",
    "\n",
    "\n",
    "10. Don’t use non-ASCII characters in identifiers if there is only the slightest chance people speaking a different language will read or maintain the code.    \n",
    "\n",
    "\n",
    "11. Name your classes and functions consistently : The convention is to use CamelCase for classes and lower_case_with_underscores for functions and methods. Always use self as the name for the first method argument.    \n",
    "\n",
    "\n",
    "12. While naming of function of methods always use self for the first argument to instance methods and cls for the first argument to class methods.If a functions argument name matches with reserved words then it can be written with a trailing comma.    "
   ]
  }
 ],
 "metadata": {
  "kernelspec": {
   "display_name": "Python 3",
   "language": "python",
   "name": "python3"
  },
  "language_info": {
   "codemirror_mode": {
    "name": "ipython",
    "version": 3
   },
   "file_extension": ".py",
   "mimetype": "text/x-python",
   "name": "python",
   "nbconvert_exporter": "python",
   "pygments_lexer": "ipython3",
   "version": "3.8.8"
  }
 },
 "nbformat": 4,
 "nbformat_minor": 5
}
