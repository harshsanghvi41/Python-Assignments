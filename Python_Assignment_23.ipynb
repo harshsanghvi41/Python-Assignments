{
 "cells": [
  {
   "cell_type": "markdown",
   "id": "c5e1830d",
   "metadata": {},
   "source": [
    "1. What is the result of the code, and why?"
   ]
  },
  {
   "cell_type": "code",
   "execution_count": 1,
   "id": "b8d026c9",
   "metadata": {},
   "outputs": [
    {
     "name": "stdout",
     "output_type": "stream",
     "text": [
      "1 2 8\n"
     ]
    }
   ],
   "source": [
    "def func(a, b=6, c=8):\n",
    "    print(a, b, c)\n",
    "func(1, 2)"
   ]
  },
  {
   "cell_type": "markdown",
   "id": "bc6f5c70",
   "metadata": {},
   "source": [
    "2. What is the result of the code, and why?"
   ]
  },
  {
   "cell_type": "code",
   "execution_count": 2,
   "id": "717f2908",
   "metadata": {},
   "outputs": [
    {
     "name": "stdout",
     "output_type": "stream",
     "text": [
      "1 2 3\n"
     ]
    }
   ],
   "source": [
    "def func(a, b, c=5):\n",
    "    print(a, b, c)\n",
    "func(1, c=3,b=2)"
   ]
  },
  {
   "cell_type": "markdown",
   "id": "bcc61c22",
   "metadata": {},
   "source": [
    "3. What is the result of the code, and why?"
   ]
  },
  {
   "cell_type": "code",
   "execution_count": 3,
   "id": "f08cb408",
   "metadata": {},
   "outputs": [
    {
     "name": "stdout",
     "output_type": "stream",
     "text": [
      "1 (2, 3)\n"
     ]
    }
   ],
   "source": [
    "def func(a, *pargs):\n",
    "    print(a, pargs)\n",
    "func(1, 2, 3)"
   ]
  },
  {
   "cell_type": "markdown",
   "id": "b7d4cc48",
   "metadata": {},
   "source": [
    "4. What is the result of the code, and why?"
   ]
  },
  {
   "cell_type": "code",
   "execution_count": 4,
   "id": "24550e1a",
   "metadata": {},
   "outputs": [
    {
     "name": "stdout",
     "output_type": "stream",
     "text": [
      "1 {'c': 3, 'b': 2}\n"
     ]
    }
   ],
   "source": [
    "def func(a, **kargs):\n",
    "    print(a, kargs)\n",
    "func(a=1, c=3, b=2)"
   ]
  },
  {
   "cell_type": "markdown",
   "id": "09f0f37a",
   "metadata": {},
   "source": [
    "5. What is the result of the code, and why?"
   ]
  },
  {
   "cell_type": "code",
   "execution_count": 5,
   "id": "d00bfdda",
   "metadata": {},
   "outputs": [
    {
     "name": "stdout",
     "output_type": "stream",
     "text": [
      "1 5 6 5\n"
     ]
    }
   ],
   "source": [
    "def func(a, b, c=8, d=5): print(a, b, c, d)\n",
    "func(1, *(5, 6))"
   ]
  },
  {
   "cell_type": "markdown",
   "id": "db5452d5",
   "metadata": {},
   "source": [
    "6. What is the result of the code, and why?"
   ]
  },
  {
   "cell_type": "code",
   "execution_count": 6,
   "id": "96dc465e",
   "metadata": {},
   "outputs": [
    {
     "data": {
      "text/plain": [
       "(1, ['x'], {'a': 'y'})"
      ]
     },
     "execution_count": 6,
     "metadata": {},
     "output_type": "execute_result"
    }
   ],
   "source": [
    "def func(a, b, c): \n",
    "    a = 2\n",
    "    b[0] = 'x'\n",
    "    c['a'] = 'y'\n",
    "    \n",
    "l=1\n",
    "m=[1]\n",
    "n={'a':0}\n",
    "\n",
    "func(l, m, n)\n",
    "l,m,n"
   ]
  }
 ],
 "metadata": {
  "kernelspec": {
   "display_name": "Python 3",
   "language": "python",
   "name": "python3"
  },
  "language_info": {
   "codemirror_mode": {
    "name": "ipython",
    "version": 3
   },
   "file_extension": ".py",
   "mimetype": "text/x-python",
   "name": "python",
   "nbconvert_exporter": "python",
   "pygments_lexer": "ipython3",
   "version": "3.8.8"
  }
 },
 "nbformat": 4,
 "nbformat_minor": 5
}
