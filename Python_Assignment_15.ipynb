{
 "cells": [
  {
   "cell_type": "markdown",
   "id": "d44731f3",
   "metadata": {},
   "source": [
    "1. How many seconds are in an hour? Use the interactive interpreter as a calculator and multiply the number of seconds in a minute (60) by the number of minutes in an hour (also 60).\n",
    "\n",
    "2. Assign the result from the previous task (seconds in an hour) to a variable called seconds_per_hour.\n",
    "\n",
    "3. How many seconds do you think there are in a day? Make use of the variables seconds per hour and minutes per hour.\n",
    "\n",
    "4. Calculate seconds per day again, but this time save the result in a variable called seconds_per_day\n",
    "\n",
    "5. Divide seconds_per_day by seconds_per_hour. Use floating-point (/) division.\n",
    "\n",
    "6. Divide seconds_per_day by seconds_per_hour, using integer (//) division. Did this number agree with the floating-point value from the previous question, aside from the final .0?"
   ]
  },
  {
   "cell_type": "code",
   "execution_count": 1,
   "id": "569f4296",
   "metadata": {},
   "outputs": [
    {
     "name": "stdout",
     "output_type": "stream",
     "text": [
      "3600\n",
      "5184000\n",
      "(1440.0, 1440)\n"
     ]
    }
   ],
   "source": [
    "class sec:\n",
    "    def __init__ (self, minute=60, second=60):\n",
    "        self.minute_per_hour = minute\n",
    "        self.sec_per_min = second\n",
    "        self.seconds_per_hour = 0\n",
    "        self.seconds_per_day = 0\n",
    "        \n",
    "    def cal_sec_hour(self):\n",
    "        self.seconds_per_hour = self.minute_per_hour * self.sec_per_min\n",
    "        return self.seconds_per_hour\n",
    "    \n",
    "class sec2(sec):    \n",
    "    def cal_sec_day(self):\n",
    "        self.seconds_per_day = self.seconds_per_hour * self.minute_per_hour * 24\n",
    "        return self.seconds_per_day\n",
    "    \n",
    "class sec3(sec2):\n",
    "    def dvs(self):\n",
    "        float_sec = self.seconds_per_day / self.seconds_per_hour\n",
    "        int_sec = self.seconds_per_day // self.seconds_per_hour\n",
    "        return float_sec, int_sec\n",
    "    \n",
    "y = sec3()\n",
    "print(y.cal_sec_hour())\n",
    "print(y.cal_sec_day())\n",
    "print(y.dvs())"
   ]
  },
  {
   "cell_type": "markdown",
   "id": "deb42520",
   "metadata": {},
   "source": [
    "7. Write a generator, genPrimes, that returns the sequence of prime numbers on successive calls to its next() method: 2, 3, 5, 7, 11, ..."
   ]
  },
  {
   "cell_type": "code",
   "execution_count": 2,
   "id": "1c354635",
   "metadata": {},
   "outputs": [],
   "source": [
    "def genPrimes():\n",
    "    primes = []\n",
    "    n = 2\n",
    "    last = n\n",
    "\n",
    "    while True:\n",
    "        for i in primes:\n",
    "            if n % i == 0:\n",
    "                n += 1\n",
    "                break\n",
    "\n",
    "        else:\n",
    "            primes.append(n)\n",
    "            last = n\n",
    "            n += 1\n",
    "            yield last"
   ]
  }
 ],
 "metadata": {
  "kernelspec": {
   "display_name": "Python 3",
   "language": "python",
   "name": "python3"
  },
  "language_info": {
   "codemirror_mode": {
    "name": "ipython",
    "version": 3
   },
   "file_extension": ".py",
   "mimetype": "text/x-python",
   "name": "python",
   "nbconvert_exporter": "python",
   "pygments_lexer": "ipython3",
   "version": "3.8.8"
  }
 },
 "nbformat": 4,
 "nbformat_minor": 5
}
