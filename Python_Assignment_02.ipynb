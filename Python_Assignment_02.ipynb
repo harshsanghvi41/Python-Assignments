{
 "cells": [
  {
   "cell_type": "markdown",
   "id": "8bd028de",
   "metadata": {},
   "source": [
    "### 1.What are the two values of the Boolean data type? How do you write them?\n",
    "\n",
    "Ans : True and False"
   ]
  },
  {
   "cell_type": "markdown",
   "id": "d53ed203",
   "metadata": {},
   "source": [
    "### 2. What are the three different types of Boolean operators?\n",
    "\n",
    "Ans : \n",
    "The AND operator (&& or \"and\")   \n",
    "The OR operator (|| or \"or\")   \n",
    "The NOT operator (not)"
   ]
  },
  {
   "cell_type": "markdown",
   "id": "3b72daa8",
   "metadata": {},
   "source": [
    "### 3. Make a list of each Boolean operator&#39;s truth tables (i.e. every possible combination of Boolean values for the operator and what it evaluate ).\n",
    "\n",
    "Ans:\n",
    "\n",
    "OR Operation\n",
    "\n",
    "Variable-1 | Variable-2 | Output\n",
    "--- |--- | ---\n",
    "  0\t|       0\t\t| 0\n",
    "  0\t|\t        1\t|\t 1\n",
    "  1\t|\t        0\t|\t 1\n",
    "  1\t|\t        1\t|\t 1\n",
    "  \n",
    "  \n",
    "AND Operation\n",
    "\n",
    "Variable-1 |\tVariable-2\t| Output\n",
    "--- | --- |---\n",
    "      0\t|\t   0\t|\t   0\n",
    "      0\t|\t   1\t|\t   0\n",
    "      1\t|\t   0\t|\t   0\n",
    "      1\t|\t   1\t |      1\n",
    "      \n",
    "Not Operation\n",
    "\n",
    "Variable-1\t| Output\n",
    "--- | ---\n",
    "      0\t\t|  1\t\n",
    "      1\t\t | 0"
   ]
  },
  {
   "cell_type": "markdown",
   "id": "2ea5f17d",
   "metadata": {},
   "source": [
    "### 4. What are the values of the following expressions?\n",
    "(5 &gt; 4) and (3 == 5)    : False    \n",
    "not (5 &gt; 4)             : False    \n",
    "(5 &gt; 4) or (3 == 5)     : True    \n",
    "not ((5 &gt; 4) or (3 == 5))    : False    \n",
    "(True and True) and (True == False)    : False    \n",
    "(not False) or (not True)   : True    "
   ]
  },
  {
   "cell_type": "markdown",
   "id": "5b6361b8",
   "metadata": {},
   "source": [
    "### 5. What are the six comparison operators?\n",
    "\n",
    "Ans : <, >, =, <=, >=, =="
   ]
  },
  {
   "cell_type": "markdown",
   "id": "3ad41296",
   "metadata": {},
   "source": [
    "### 6. How do you tell the difference between the equal to and assignment operators?Describe a condition and when you would use one.\n",
    "\n",
    "Ans : The “=” is an assignment operator is used to assign the value on the right to the variable on the left. The '==' operator checks whether the two given operands are equal or not. If so, it returns true. Otherwise it returns false"
   ]
  },
  {
   "cell_type": "markdown",
   "id": "ba68483c",
   "metadata": {},
   "source": [
    "### 7. Identify the three blocks in this code:\n",
    "spam = 0    \n",
    "if spam == 10:    **_#block1 start_**    \n",
    "print(&#39;eggs&#39;)    **_#block1 end_**     \n",
    "if spam &gt; 5:    **_#block2 start_**    \n",
    "print(&#39;bacon&#39;)    **_#block2 end_**    \n",
    "else:    **_#block3 start_**        \n",
    "print(&#39;ham&#39;)    \n",
    "print(&#39;spam&#39;)    \n",
    "print(&#39;spam&#39;)    **_#block3 end_**    "
   ]
  },
  {
   "cell_type": "markdown",
   "id": "00e75be2",
   "metadata": {},
   "source": [
    "### 8. Write code that prints Hello if 1 is stored in spam, prints Howdy if 2 is stored in spam, and prints Greetings! if anything else is stored in spam."
   ]
  },
  {
   "cell_type": "code",
   "execution_count": 2,
   "id": "67d10c13",
   "metadata": {},
   "outputs": [
    {
     "name": "stdout",
     "output_type": "stream",
     "text": [
      "Hello\n"
     ]
    }
   ],
   "source": [
    "spam = 1\n",
    "if spam == 1: \n",
    "    print('Hello') \n",
    "elif spam == 2: \n",
    "    print('Howdy') \n",
    "else: \n",
    "    print('Greetings!')"
   ]
  },
  {
   "cell_type": "markdown",
   "id": "dc0b8174",
   "metadata": {},
   "source": [
    "### 9.If your programme is stuck in an endless loop, what keys you’ll press?\n",
    "\n",
    "Ans : Ctrl + C"
   ]
  },
  {
   "cell_type": "markdown",
   "id": "b522fe3b",
   "metadata": {},
   "source": [
    "### 10. How can you tell the difference between break and continue?"
   ]
  },
  {
   "cell_type": "code",
   "execution_count": 3,
   "id": "4cb8270a",
   "metadata": {},
   "outputs": [
    {
     "name": "stdout",
     "output_type": "stream",
     "text": [
      "s\n",
      "u\n"
     ]
    }
   ],
   "source": [
    "# BREAK : It eliminates the execution of remaining iteration of loop\n",
    "s = 'sudh'\n",
    "for i in s:\n",
    "    if i == 'd':\n",
    "        break\n",
    "    else:\n",
    "        print(i)"
   ]
  },
  {
   "cell_type": "code",
   "execution_count": 4,
   "id": "eaeae147",
   "metadata": {},
   "outputs": [
    {
     "name": "stdout",
     "output_type": "stream",
     "text": [
      "s\n",
      "u\n",
      "h\n"
     ]
    }
   ],
   "source": [
    "# CONTINUE : It will terminate only the current iteration of loop\n",
    "s = 'sudh'\n",
    "for i in s:\n",
    "    if i == 'd':\n",
    "        continue\n",
    "    else:\n",
    "        print(i)"
   ]
  },
  {
   "cell_type": "markdown",
   "id": "d304fc61",
   "metadata": {},
   "source": [
    "### 11. In a for loop, what is the difference between range(10), range(0, 10), and range(0, 10, 1)?\n",
    "\n",
    "Ans : All are same"
   ]
  },
  {
   "cell_type": "markdown",
   "id": "6eb3ccd8",
   "metadata": {},
   "source": [
    "### 12. Write a short program that prints the numbers 1 to 10 using a for loop. Then write an equivalent program that prints the numbers 1 to 10 using a while loop."
   ]
  },
  {
   "cell_type": "code",
   "execution_count": 7,
   "id": "1c1eed12",
   "metadata": {},
   "outputs": [
    {
     "name": "stdout",
     "output_type": "stream",
     "text": [
      "1\n",
      "2\n",
      "3\n",
      "4\n",
      "5\n",
      "6\n",
      "7\n",
      "8\n",
      "9\n",
      "10\n"
     ]
    }
   ],
   "source": [
    "# For Loop\n",
    "i = 1\n",
    "for i in range(1,11):\n",
    "    print(i)"
   ]
  },
  {
   "cell_type": "code",
   "execution_count": 9,
   "id": "3dd9406c",
   "metadata": {},
   "outputs": [
    {
     "name": "stdout",
     "output_type": "stream",
     "text": [
      "1\n",
      "2\n",
      "3\n",
      "4\n",
      "5\n",
      "6\n",
      "7\n",
      "8\n",
      "9\n",
      "10\n"
     ]
    }
   ],
   "source": [
    "# While Loop\n",
    "i = 1\n",
    "s = 10\n",
    "while i <= s:\n",
    "    print(i)\n",
    "    i = i+1\n"
   ]
  },
  {
   "cell_type": "markdown",
   "id": "c41a605d",
   "metadata": {},
   "source": [
    "### 13. If you had a function named bacon() inside a module named spam, how would you call it after importing spam?"
   ]
  },
  {
   "cell_type": "code",
   "execution_count": null,
   "id": "c5056599",
   "metadata": {},
   "outputs": [],
   "source": [
    "import spam\n",
    "def bacon():\n",
    "    pass\n",
    "bacon()"
   ]
  }
 ],
 "metadata": {
  "kernelspec": {
   "display_name": "Python 3",
   "language": "python",
   "name": "python3"
  },
  "language_info": {
   "codemirror_mode": {
    "name": "ipython",
    "version": 3
   },
   "file_extension": ".py",
   "mimetype": "text/x-python",
   "name": "python",
   "nbconvert_exporter": "python",
   "pygments_lexer": "ipython3",
   "version": "3.8.8"
  }
 },
 "nbformat": 4,
 "nbformat_minor": 5
}
