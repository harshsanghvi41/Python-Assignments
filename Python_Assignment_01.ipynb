{
 "cells": [
  {
   "cell_type": "markdown",
   "id": "b17165cf",
   "metadata": {},
   "source": [
    "### 1. In the below elements which of them are values or an expression? eg:- values can be integer or string and expressions will be mathematical operators.\n",
    "\n",
    "Ans : \n",
    "\n",
    "Expression | Value  \n",
    "--- | ---\n",
    "- | hello  \n",
    "* | -87.8  \n",
    "+ | 6      \n",
    "/ |"
   ]
  },
  {
   "cell_type": "markdown",
   "id": "e4bb2b91",
   "metadata": {},
   "source": [
    "### 2. What is the difference between string and variable?\n",
    "\n",
    "Ans : String must be alphabeticle values, it can't be numbers and it can be described within single/double quotes while variables is a name of the location. it can store everything like string, numbers, complex numbers etc."
   ]
  },
  {
   "cell_type": "markdown",
   "id": "fe004eff",
   "metadata": {},
   "source": [
    "### 3. Describe three different data types.\n",
    "\n",
    "Ans : string, integer, boolean, list, complex, flot"
   ]
  },
  {
   "cell_type": "markdown",
   "id": "b5b9d900",
   "metadata": {},
   "source": [
    "### 4. What is an expression made up of? What do all expressions do?\n",
    "\n",
    "Ans : Expression is used for performing mathematical operation."
   ]
  },
  {
   "cell_type": "markdown",
   "id": "3a04b10b",
   "metadata": {},
   "source": [
    "### 5. This assignment statements, like spam = 10. What is the difference between an expression and a statement?\n",
    "\n",
    "Ans : An expression is a combination of values and functions that are combined and interpreted by the compiler to create a new value, as opposed to a statement which is just a standalone unit of execution and doesn't return anything\n"
   ]
  },
  {
   "cell_type": "markdown",
   "id": "deb7f8cc",
   "metadata": {},
   "source": [
    "### 6. After running the following code, what does the variable bacon contain? \n",
    "### bacon = 22 \n",
    "### bacon + 1"
   ]
  },
  {
   "cell_type": "code",
   "execution_count": 1,
   "id": "129e222c",
   "metadata": {},
   "outputs": [
    {
     "data": {
      "text/plain": [
       "21"
      ]
     },
     "execution_count": 1,
     "metadata": {},
     "output_type": "execute_result"
    }
   ],
   "source": [
    "bacon = 20\n",
    "bacon+1"
   ]
  },
  {
   "cell_type": "markdown",
   "id": "a4bc4e3e",
   "metadata": {},
   "source": [
    "### 7. What should the values of the following two terms be?"
   ]
  },
  {
   "cell_type": "code",
   "execution_count": 2,
   "id": "b060edda",
   "metadata": {},
   "outputs": [
    {
     "data": {
      "text/plain": [
       "'spamspamspam'"
      ]
     },
     "execution_count": 2,
     "metadata": {},
     "output_type": "execute_result"
    }
   ],
   "source": [
    "'spam' + 'spamspam'"
   ]
  },
  {
   "cell_type": "code",
   "execution_count": 3,
   "id": "61a9bbc5",
   "metadata": {},
   "outputs": [
    {
     "data": {
      "text/plain": [
       "'spamspamspam'"
      ]
     },
     "execution_count": 3,
     "metadata": {},
     "output_type": "execute_result"
    }
   ],
   "source": [
    "'spam'*3"
   ]
  },
  {
   "cell_type": "markdown",
   "id": "a1d49c9d",
   "metadata": {},
   "source": [
    "### 8. Why is eggs a valid variable name while 100 is invalid?\n",
    "\n",
    "Ans : Variable name shouldn't starts with interger in python. it can be starts with `string` or `_string`. \n",
    "EX. eggs = 10 or _eggs = 10 "
   ]
  },
  {
   "cell_type": "markdown",
   "id": "61ab807d",
   "metadata": {},
   "source": [
    "### 9. What three functions can be used to get the integer, floating-point number, or string version of a value?\n",
    "\n",
    "Ans : int() is used to get integer, str() is used to get string, float() is used to get floating point numbers."
   ]
  },
  {
   "cell_type": "code",
   "execution_count": 4,
   "id": "47e8978c",
   "metadata": {},
   "outputs": [],
   "source": [
    "a = 123\n",
    "b = str(123)"
   ]
  },
  {
   "cell_type": "code",
   "execution_count": 5,
   "id": "c6c30b71",
   "metadata": {},
   "outputs": [
    {
     "data": {
      "text/plain": [
       "str"
      ]
     },
     "execution_count": 5,
     "metadata": {},
     "output_type": "execute_result"
    }
   ],
   "source": [
    "type(b)"
   ]
  },
  {
   "cell_type": "code",
   "execution_count": 6,
   "id": "95fec3ec",
   "metadata": {},
   "outputs": [],
   "source": [
    "a = '123'\n",
    "b = int('123')"
   ]
  },
  {
   "cell_type": "code",
   "execution_count": 7,
   "id": "3166cf23",
   "metadata": {},
   "outputs": [
    {
     "data": {
      "text/plain": [
       "int"
      ]
     },
     "execution_count": 7,
     "metadata": {},
     "output_type": "execute_result"
    }
   ],
   "source": [
    "type(b)"
   ]
  },
  {
   "cell_type": "code",
   "execution_count": 8,
   "id": "15996a6e",
   "metadata": {},
   "outputs": [],
   "source": [
    "a = 123.45\n",
    "b = float(a)"
   ]
  },
  {
   "cell_type": "code",
   "execution_count": 9,
   "id": "d1feb8cd",
   "metadata": {},
   "outputs": [
    {
     "data": {
      "text/plain": [
       "float"
      ]
     },
     "execution_count": 9,
     "metadata": {},
     "output_type": "execute_result"
    }
   ],
   "source": [
    "type(b)"
   ]
  },
  {
   "cell_type": "markdown",
   "id": "3c705955",
   "metadata": {},
   "source": [
    "### 10. Why does this expression cause an error? How can you fix it?\n",
    "### 'I have eaten' + 99 + 'burritos.'"
   ]
  },
  {
   "cell_type": "code",
   "execution_count": 10,
   "id": "f38197b4",
   "metadata": {},
   "outputs": [
    {
     "ename": "TypeError",
     "evalue": "can only concatenate str (not \"int\") to str",
     "output_type": "error",
     "traceback": [
      "\u001b[1;31m---------------------------------------------------------------------------\u001b[0m",
      "\u001b[1;31mTypeError\u001b[0m                                 Traceback (most recent call last)",
      "\u001b[1;32m<ipython-input-10-0122543cb594>\u001b[0m in \u001b[0;36m<module>\u001b[1;34m\u001b[0m\n\u001b[1;32m----> 1\u001b[1;33m \u001b[1;34m'I have eaten'\u001b[0m \u001b[1;33m+\u001b[0m \u001b[1;36m99\u001b[0m \u001b[1;33m+\u001b[0m \u001b[1;34m'burritos.'\u001b[0m \u001b[1;31m## it will cause an error because str can not concatinate with int value. we need to convert int value into str formate or a vice versa\u001b[0m\u001b[1;33m\u001b[0m\u001b[1;33m\u001b[0m\u001b[0m\n\u001b[0m",
      "\u001b[1;31mTypeError\u001b[0m: can only concatenate str (not \"int\") to str"
     ]
    }
   ],
   "source": [
    "'I have eaten' + 99 + 'burritos.' ## it will cause an error because str can not concatinate with int value. we need to convert int value into str formate or a vice versa"
   ]
  },
  {
   "cell_type": "code",
   "execution_count": 11,
   "id": "d34d0432",
   "metadata": {},
   "outputs": [
    {
     "data": {
      "text/plain": [
       "'I have eaten 99burritos.'"
      ]
     },
     "execution_count": 11,
     "metadata": {},
     "output_type": "execute_result"
    }
   ],
   "source": [
    "'I have eaten ' + str(99) + 'burritos.'"
   ]
  },
  {
   "cell_type": "code",
   "execution_count": null,
   "id": "8b038ec6",
   "metadata": {},
   "outputs": [],
   "source": []
  }
 ],
 "metadata": {
  "celltoolbar": "Raw Cell Format",
  "kernelspec": {
   "display_name": "Python 3",
   "language": "python",
   "name": "python3"
  },
  "language_info": {
   "codemirror_mode": {
    "name": "ipython",
    "version": 3
   },
   "file_extension": ".py",
   "mimetype": "text/x-python",
   "name": "python",
   "nbconvert_exporter": "python",
   "pygments_lexer": "ipython3",
   "version": "3.8.8"
  }
 },
 "nbformat": 4,
 "nbformat_minor": 5
}
