{
 "cells": [
  {
   "cell_type": "markdown",
   "id": "14a76482",
   "metadata": {},
   "source": [
    "## 1. Why are functions advantageous to have in your programs?\n",
    "\n",
    "Ans: functions can be used for code reusability. Functions reduce the need for duplicate code.This makes programs shorter, easier to read, and easier to update\n"
   ]
  },
  {
   "cell_type": "markdown",
   "id": "34448c16",
   "metadata": {},
   "source": [
    "## 2. When does the code in a function run: when it&#39;s specified or when it&#39;s called?\n",
    "\n",
    "Ans: When functions calls, the code in fuction will run."
   ]
  },
  {
   "cell_type": "markdown",
   "id": "d9203a17",
   "metadata": {},
   "source": [
    "## 3. What statement creates a function?\n",
    "\n",
    "Ans: def funcname(): is the staement which creates functions\n"
   ]
  },
  {
   "cell_type": "markdown",
   "id": "95f006ff",
   "metadata": {},
   "source": [
    "## 4. What is the difference between a function and a function call?\n",
    "\n",
    "Ans: A function is procedure to achieve a particular result. while function call is using this function to achive that task. A function call means invoking or calling that function."
   ]
  },
  {
   "cell_type": "markdown",
   "id": "5f9c7efa",
   "metadata": {},
   "source": [
    "## 5. How many global scopes are there in a Python program? How many local scopes?\n",
    "\n",
    "Ans: There's only one global Python scope per program execution. This scope remains in existence until the program terminates and all its names are forgotten. "
   ]
  },
  {
   "cell_type": "markdown",
   "id": "ef40581d",
   "metadata": {},
   "source": [
    "## 6. What happens to variables in a local scope when the function call returns?\n",
    "\n",
    "Ans: It will update the value during the function call which was passes as local scope in function."
   ]
  },
  {
   "cell_type": "code",
   "execution_count": 5,
   "id": "4833adbf",
   "metadata": {},
   "outputs": [],
   "source": [
    "def sumnum(a,b):\n",
    "    a=4\n",
    "    b=5\n",
    "    return a + b"
   ]
  },
  {
   "cell_type": "code",
   "execution_count": 2,
   "id": "aa1f343f",
   "metadata": {},
   "outputs": [
    {
     "data": {
      "text/plain": [
       "9"
      ]
     },
     "execution_count": 2,
     "metadata": {},
     "output_type": "execute_result"
    }
   ],
   "source": [
    "sumnum(10,20)"
   ]
  },
  {
   "cell_type": "markdown",
   "id": "65682585",
   "metadata": {},
   "source": [
    "## 7. What is the concept of a return value? Is it possible to have a return value in an expression?\n",
    "\n",
    "Ans: A return statement is used to end the execution of the function call and “returns” the result to the caller. The statements after the return statements are not executed. If the return statement is without any expression, then the special value None is returned."
   ]
  },
  {
   "cell_type": "markdown",
   "id": "6e8c7fb1",
   "metadata": {},
   "source": [
    "## 8. If a function does not have a return statement, what is the return value of a call to that function?\n",
    "\n",
    "Ans: return value is undefined"
   ]
  },
  {
   "cell_type": "markdown",
   "id": "e3346bac",
   "metadata": {},
   "source": [
    "## 9. How do you make a function variable refer to the global variable?\n",
    "\n",
    "Ans: If you want to refer to a global variable in a function, you can use the global keyword to declare which variables are global."
   ]
  },
  {
   "cell_type": "markdown",
   "id": "2a3560f2",
   "metadata": {},
   "source": [
    "## 10. What is the data type of None?"
   ]
  },
  {
   "cell_type": "code",
   "execution_count": 6,
   "id": "12e12e13",
   "metadata": {},
   "outputs": [
    {
     "data": {
      "text/plain": [
       "NoneType"
      ]
     },
     "execution_count": 6,
     "metadata": {},
     "output_type": "execute_result"
    }
   ],
   "source": [
    "type(None)"
   ]
  },
  {
   "cell_type": "markdown",
   "id": "693eedff",
   "metadata": {},
   "source": [
    "## 11. What does the sentence import areallyourpetsnamederic do?\n",
    "\n",
    "Ans: A global statement will force a variable in a function to refer to the global variable. The data type of None is NoneType . That import statement imports a module named areallyourpetsnamederic ."
   ]
  },
  {
   "cell_type": "markdown",
   "id": "efad96e1",
   "metadata": {},
   "source": [
    "## 12. If you had a bacon() feature in a spam module, what would you call it after importing spam?\n",
    "\n",
    "Ans: This function can be called with spam.bacon()."
   ]
  },
  {
   "cell_type": "markdown",
   "id": "dffa5b48",
   "metadata": {},
   "source": [
    "## 13. What can you do to save a programme from crashing if it encounters an error?\n",
    "\n",
    "Ans: We can use error handling to notify the user of why the error occurred and gracefully exit the process that caused the error."
   ]
  },
  {
   "cell_type": "markdown",
   "id": "94407f58",
   "metadata": {},
   "source": [
    "## 14. What is the purpose of the try clause? What is the purpose of the except clause?\n",
    "\n",
    "Ans: The try block allows you to test a block of code for errors. The except block enables you to handle the error with a user-defined response. "
   ]
  },
  {
   "cell_type": "code",
   "execution_count": null,
   "id": "877951c2",
   "metadata": {},
   "outputs": [],
   "source": []
  }
 ],
 "metadata": {
  "kernelspec": {
   "display_name": "Python 3",
   "language": "python",
   "name": "python3"
  },
  "language_info": {
   "codemirror_mode": {
    "name": "ipython",
    "version": 3
   },
   "file_extension": ".py",
   "mimetype": "text/x-python",
   "name": "python",
   "nbconvert_exporter": "python",
   "pygments_lexer": "ipython3",
   "version": "3.8.8"
  }
 },
 "nbformat": 4,
 "nbformat_minor": 5
}
