{
 "cells": [
  {
   "cell_type": "markdown",
   "id": "08c7e218",
   "metadata": {},
   "source": [
    "1. Add the current date to the text file today.txt as a string."
   ]
  },
  {
   "cell_type": "code",
   "execution_count": 1,
   "id": "870bdb7b",
   "metadata": {},
   "outputs": [],
   "source": [
    "import datetime\n",
    "current_date_and_time = datetime.datetime.now()\n",
    "current_date_and_time_string = str(current_date_and_time)\n",
    "\n",
    "file = open('today.txt', 'w')\n",
    "file.write(current_date_and_time_string)\n",
    "file.close()"
   ]
  },
  {
   "cell_type": "markdown",
   "id": "9032167f",
   "metadata": {},
   "source": [
    "2. Read the text file today.txt into the string today_string"
   ]
  },
  {
   "cell_type": "code",
   "execution_count": 2,
   "id": "9696e41b",
   "metadata": {},
   "outputs": [
    {
     "data": {
      "text/plain": [
       "'2022-02-28 16:25:21.647193'"
      ]
     },
     "execution_count": 2,
     "metadata": {},
     "output_type": "execute_result"
    }
   ],
   "source": [
    "file = open('today.txt','r')\n",
    "today_string = file.read()\n",
    "today_string"
   ]
  },
  {
   "cell_type": "markdown",
   "id": "59319da7",
   "metadata": {},
   "source": [
    "3. Parse the date from today_string."
   ]
  },
  {
   "cell_type": "code",
   "execution_count": 3,
   "id": "07f49738",
   "metadata": {},
   "outputs": [
    {
     "data": {
      "text/plain": [
       "'28/02/2022'"
      ]
     },
     "execution_count": 3,
     "metadata": {},
     "output_type": "execute_result"
    }
   ],
   "source": [
    "today_string = datetime.datetime.strptime('Mon Feb 28 2022', '%a %b %d %Y').strftime('%d/%m/%Y')\n",
    "today_string"
   ]
  },
  {
   "cell_type": "markdown",
   "id": "194194f3",
   "metadata": {},
   "source": [
    "4. List the files in your current directory"
   ]
  },
  {
   "cell_type": "code",
   "execution_count": 4,
   "id": "dac5774d",
   "metadata": {},
   "outputs": [
    {
     "name": "stdout",
     "output_type": "stream",
     "text": [
      " Volume in drive C is Windows\n",
      " Volume Serial Number is 0AFA-0987\n",
      "\n",
      " Directory of C:\\Users\\harsh\\iNeuron\\Assignments\\Python Basic Assignment\n",
      "\n",
      "28-02-2022  04:23 PM    <DIR>          .\n",
      "18-02-2022  11:18 AM    <DIR>          ..\n",
      "28-02-2022  03:29 PM    <DIR>          .ipynb_checkpoints\n",
      "16-02-2022  08:09 PM               201 books.csv\n",
      "16-02-2022  07:40 PM               200 new.csv\n",
      "08-12-2021  06:23 PM             7,800 Python_Assignment_01.ipynb\n",
      "10-01-2022  06:51 PM             7,484 Python_Assignment_02.ipynb\n",
      "10-01-2022  08:30 PM             5,901 Python_Assignment_03.ipynb\n",
      "01-02-2022  05:47 PM             9,355 Python_Assignment_04.ipynb\n",
      "01-02-2022  06:45 PM             6,134 Python_Assignment_05.ipynb\n",
      "14-02-2022  01:21 PM             6,155 Python_Assignment_06.ipynb\n",
      "14-02-2022  03:35 PM             3,132 Python_Assignment_09.ipynb\n",
      "15-02-2022  01:36 PM             9,401 Python_Assignment_11.ipynb\n",
      "15-02-2022  04:36 PM             3,517 Python_Assignment_15.ipynb\n",
      "16-02-2022  01:14 PM             9,812 Python_Assignment_16.ipynb\n",
      "16-02-2022  02:39 PM             9,093 Python_Assignment_17.ipynb\n",
      "16-02-2022  05:08 PM             4,320 Python_Assignment_18.ipynb\n",
      "16-02-2022  06:14 PM             8,874 Python_Assignment_19.ipynb\n",
      "19-02-2022  03:09 PM            23,157 Python_Assignment_20.ipynb\n",
      "28-02-2022  04:23 PM             7,707 Python_Assignment_21.ipynb\n",
      "17-02-2022  10:39 AM             3,840 Python_Assignment_22.ipynb\n",
      "17-02-2022  11:00 AM             3,481 Python_Assignment_23.ipynb\n",
      "17-02-2022  12:25 PM             7,812 Python_Assignment_24.ipynb\n",
      "17-02-2022  02:39 PM             2,888 Python_Assignment_25.ipynb\n",
      "16-02-2022  06:18 PM                43 test.txt\n",
      "28-02-2022  04:25 PM                26 today.txt\n",
      "16-02-2022  04:51 PM                47 zoo.py\n",
      "              24 File(s)        140,380 bytes\n",
      "               3 Dir(s)  330,759,565,312 bytes free\n"
     ]
    }
   ],
   "source": [
    "ls"
   ]
  },
  {
   "cell_type": "markdown",
   "id": "43c352e1",
   "metadata": {},
   "source": [
    "5. Create a list of all of the files in your parent directory (minimum five files should be available)."
   ]
  },
  {
   "cell_type": "code",
   "execution_count": 5,
   "id": "0ff964a8",
   "metadata": {},
   "outputs": [
    {
     "data": {
      "text/plain": [
       "'C:\\\\Users\\\\harsh\\\\iNeuron'"
      ]
     },
     "execution_count": 5,
     "metadata": {},
     "output_type": "execute_result"
    }
   ],
   "source": [
    "import os.path\n",
    "os.path.dirname('C:\\\\Users\\harsh\\iNeuron\\Class Notebook')"
   ]
  },
  {
   "cell_type": "markdown",
   "id": "9a42c02c",
   "metadata": {},
   "source": [
    "6. Use multiprocessing to create three separate processes. Make each one wait a random number of seconds between one and five, print the current time, and then exit."
   ]
  },
  {
   "cell_type": "code",
   "execution_count": 6,
   "id": "bfb53d05",
   "metadata": {},
   "outputs": [
    {
     "name": "stdout",
     "output_type": "stream",
     "text": [
      "Started worker harsh\n",
      "harsh worker finished in 4 seconds\n"
     ]
    }
   ],
   "source": [
    "import multiprocessing\n",
    "import random\n",
    "import time\n",
    "def worker(name: str):\n",
    "    print(f'Started worker {name}')\n",
    "    worker_time = random.choice(range(1, 5))\n",
    "    time.sleep(worker_time)\n",
    "    print(f'{name} worker finished in {worker_time} seconds')\n",
    "if __name__ == '__main__':\n",
    "    processes = []\n",
    "    for i in range(5):\n",
    "        process = multiprocessing.Process(target=worker, args=(f'computer_{i}',))\n",
    "        processes.append(process)\n",
    "        process.start()\n",
    "    for proc in processes:\n",
    "\n",
    "        proc.join()\n",
    "        \n",
    "worker('harsh')"
   ]
  },
  {
   "cell_type": "markdown",
   "id": "d09b6530",
   "metadata": {},
   "source": [
    "7. Create a date object of your day of birth."
   ]
  },
  {
   "cell_type": "code",
   "execution_count": 7,
   "id": "ff271aa3",
   "metadata": {},
   "outputs": [
    {
     "name": "stdout",
     "output_type": "stream",
     "text": [
      "1999-01-04 00:00:00\n"
     ]
    }
   ],
   "source": [
    "import datetime\n",
    "\n",
    "x = datetime.datetime(1999, 1, 4)\n",
    "\n",
    "print(x)"
   ]
  },
  {
   "cell_type": "markdown",
   "id": "5f87818a",
   "metadata": {},
   "source": [
    "8. What day of the week was your day of birth?"
   ]
  },
  {
   "cell_type": "code",
   "execution_count": 8,
   "id": "d8df6719",
   "metadata": {},
   "outputs": [
    {
     "name": "stdout",
     "output_type": "stream",
     "text": [
      "Monday\n"
     ]
    }
   ],
   "source": [
    "import datetime\n",
    "import calendar\n",
    "\n",
    "def findDay(date):\n",
    "    born = datetime.datetime.strptime(date, '%d %m %Y').weekday()\n",
    "    return (calendar.day_name[born])\n",
    "\n",
    "date = '04 01 1999'\n",
    "print(findDay(date))"
   ]
  },
  {
   "cell_type": "code",
   "execution_count": null,
   "id": "a85cd65d",
   "metadata": {},
   "outputs": [],
   "source": []
  }
 ],
 "metadata": {
  "kernelspec": {
   "display_name": "Python 3 (ipykernel)",
   "language": "python",
   "name": "python3"
  },
  "language_info": {
   "codemirror_mode": {
    "name": "ipython",
    "version": 3
   },
   "file_extension": ".py",
   "mimetype": "text/x-python",
   "name": "python",
   "nbconvert_exporter": "python",
   "pygments_lexer": "ipython3",
   "version": "3.8.12"
  }
 },
 "nbformat": 4,
 "nbformat_minor": 5
}
