{
 "cells": [
  {
   "cell_type": "markdown",
   "id": "3bf05fce",
   "metadata": {},
   "source": [
    "1. What is the difference between enclosing a list comprehension in square brackets and parentheses?\n",
    "\n",
    "Ans: Square brackets are lists while parentheses are tuples"
   ]
  },
  {
   "cell_type": "markdown",
   "id": "d9c36fcb",
   "metadata": {},
   "source": [
    "2. What is the relationship between generators and iterators?\n",
    "\n",
    "Ans:\n",
    "\n",
    "Iterator |\tGenerator\n",
    "---|---\n",
    "Class is used to implement an iterator | Function is used to implement a generator.\n",
    "Local Variables aren’t used here. | All the local variables before the yield function are stored. \n",
    "Iterators are used mostly to iterate or convert other objects to an iterator using iter() function.  | Generators are mostly used in loops to generate an iterator by returning all the values in the loop without affecting the iteration of the loop\n",
    "Iterator uses iter() and next() functions | Generator uses yield keyword\n",
    "Every iterator is not a generator|\tEvery generator is an iterator"
   ]
  },
  {
   "cell_type": "markdown",
   "id": "3b711f98",
   "metadata": {},
   "source": [
    "3. What are the signs that a function is a generator function?\n",
    "\n",
    "Ans: If a function contains at least one yield statement (it may contain other yield or return statements), it becomes a generator function. Both yield and return will return some value from a function."
   ]
  },
  {
   "cell_type": "markdown",
   "id": "1010efa0",
   "metadata": {},
   "source": [
    "4. What is the purpose of a yield statement?\n",
    "\n",
    "Ans: Yield is a keyword in Python that is used to return from a function without destroying the states of its local variable and when the function is called, the execution starts from the last yield statement."
   ]
  },
  {
   "cell_type": "markdown",
   "id": "e1794d33",
   "metadata": {},
   "source": [
    "5. What is the relationship between map calls and list comprehensions? Make a comparison and contrast between the two.\n",
    "\n",
    "Ans: List comprehension is more concise and easier to read as compared to map. List comprehension are used when a list of results is required as map only returns a map object and does not return any list. Map is faster in case of calling an already defined function (as no lambda is required)."
   ]
  }
 ],
 "metadata": {
  "kernelspec": {
   "display_name": "Python 3",
   "language": "python",
   "name": "python3"
  },
  "language_info": {
   "codemirror_mode": {
    "name": "ipython",
    "version": 3
   },
   "file_extension": ".py",
   "mimetype": "text/x-python",
   "name": "python",
   "nbconvert_exporter": "python",
   "pygments_lexer": "ipython3",
   "version": "3.8.8"
  }
 },
 "nbformat": 4,
 "nbformat_minor": 5
}
